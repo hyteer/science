{
 "cells": [
  {
   "cell_type": "code",
   "execution_count": 1,
   "metadata": {},
   "outputs": [
    {
     "data": {
      "image/png": "[encoded data removed]",
      "text/plain": [
       "<matplotlib.figure.Figure at 0x27386dd66a0>"
      ]
     },
     "metadata": {},
     "output_type": "display_data"
    }
   ],
   "source": [
    "#!/usr/bin/env python\n",
    "# -*- coding: utf-8 -*-\n",
    "import numpy as np\n",
    "import matplotlib\n",
    "import matplotlib.pyplot as plt\n",
    "\n",
    "# Data to be represented\n",
    "Y = np.linspace(0,1,12)\n",
    "X = np.ones(Y.size)\n",
    "W = [0.25,0.50,0.75,1,2,3,4,5,6,7,8]\n",
    "\n",
    "# Actual plotting\n",
    "fig = plt.figure(figsize=(8,6), dpi=72, facecolor='white')\n",
    "axes = plt.subplot(111)\n",
    "for i,w in enumerate(W):\n",
    "    axes.plot( (1+i)*X, Y, linewidth=w, color='blue')\n",
    "\n",
    "axes.set_xlim(0,len(W)+1)\n",
    "axes.set_yticks([])\n",
    "axes.set_xticks(np.arange(1,len(W)+1))\n",
    "axes.set_xticklabels(['%.2f' % w for w in W])\n",
    "\n",
    "plt.show()"
   ]
  },
  {
   "cell_type": "code",
   "execution_count": 2,
   "metadata": {
    "scrolled": true
   },
   "outputs": [
    {
     "data": {
      "image/png": "[encoded data removed]",
      "text/plain": [
       "<matplotlib.figure.Figure at 0x27388c125c0>"
      ]
     },
     "metadata": {},
     "output_type": "display_data"
    }
   ],
   "source": [
    "#!/usr/bin/env python\n",
    "# -*- coding: utf-8 -*-\n",
    "import numpy as np\n",
    "import matplotlib\n",
    "import matplotlib.pyplot as plt\n",
    "\n",
    "# Data to be represented\n",
    "X = np.linspace(0,1,10)\n",
    "Y = np.ones(X.size)\n",
    "\n",
    "# Actual plotting\n",
    "fig = plt.figure(figsize=(8,6), dpi=72, facecolor=\"white\")\n",
    "axes = plt.subplot(111,aspect=1)\n",
    "axes.plot( X, Y*0.1, color = 'blue', linewidth=2, linestyle=\"-\" )\n",
    "axes.plot( X, Y*0.2, color = 'blue', linewidth=2, linestyle=\"--\" )\n",
    "axes.plot( X, Y*0.3, color = 'blue', linewidth=2, linestyle=\"-.\" )\n",
    "axes.plot( X, Y*0.4, color = 'blue', linewidth=2, linestyle=\":\" )\n",
    "line, = axes.plot( X, Y*0.5, color = 'blue', linewidth=2, linestyle=\"-\" )\n",
    "line.set_dashes([20,2])\n",
    "line, = axes.plot( X, Y*0.6, color = 'blue', linewidth=2, linestyle=\"-\" )\n",
    "line.set_dashes([2,20])\n",
    "line, = axes.plot( X, Y*0.7, color = 'blue', linewidth=2, linestyle=\"-\" )\n",
    "line.set_dashes((40,5,5,5))\n",
    "line, = axes.plot( X, Y*0.8, color = 'blue', linewidth=2, linestyle=\"-\" )\n",
    "line.set_dashes((40,5,5,5,5,5))\n",
    "line, = axes.plot( X, Y*0.9, color = 'blue', linewidth=2, linestyle=\"-\" )\n",
    "line.set_dashes((40,5,5,5,5,5,40,5))\n",
    "\n",
    "\n",
    "axes.set_xlim(X.min(),X.max())\n",
    "axes.set_ylim(0,1)\n",
    "axes.set_xticks([])\n",
    "axes.set_yticks(np.arange(1,10)/10.0)\n",
    "axes.set_yticklabels((\"-\",\"--\",\"-.\",\":\",\n",
    "                      \"(20,2)\", \"(2,20)\", \"(40,5,5,5)\",\n",
    "                      \"(40,5,5,5,5,5,5)\", \"(40,5,5,5,5,40)\"))\n",
    "\n",
    "plt.show()"
   ]
  },
  {
   "cell_type": "code",
   "execution_count": 3,
   "metadata": {},
   "outputs": [
    {
     "data": {
      "image/png": "[encoded data removed]",
      "text/plain": [
       "<matplotlib.figure.Figure at 0x27387e95240>"
      ]
     },
     "metadata": {},
     "output_type": "display_data"
    }
   ],
   "source": [
    "#!/usr/bin/env python\n",
    "# -*- coding: utf-8 -*-\n",
    "import numpy as np\n",
    "import matplotlib\n",
    "import matplotlib.pyplot as plt\n",
    "\n",
    "# Data to be represented\n",
    "Y = np.linspace(0,1,12)\n",
    "X = np.ones(Y.size)\n",
    "\n",
    "# Actual plotting\n",
    "fig = plt.figure(figsize=(8,6), dpi=72, facecolor=\"white\")\n",
    "axes = plt.subplot(111)\n",
    "for i in range(7):\n",
    "    axes.plot( (1+i)*X, Y, linewidth=4)\n",
    "\n",
    "axes.set_xlim(0,8)\n",
    "axes.set_yticks([])\n",
    "axes.set_xticks(np.arange(1,8))\n",
    "\n",
    "plt.show()"
   ]
  }
 ],
 "metadata": {
  "kernelspec": {
   "display_name": "Python 3",
   "language": "python",
   "name": "python3"
  },
  "language_info": {
   "codemirror_mode": {
    "name": "ipython",
    "version": 3
   },
   "file_extension": ".py",
   "mimetype": "text/x-python",
   "name": "python",
   "nbconvert_exporter": "python",
   "pygments_lexer": "ipython3",
   "version": "3.5.3"
  }
 },
 "nbformat": 4,
 "nbformat_minor": 2
}
